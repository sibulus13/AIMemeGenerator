{
 "metadata": {
  "language_info": {
   "codemirror_mode": {
    "name": "ipython",
    "version": 3
   },
   "file_extension": ".py",
   "mimetype": "text/x-python",
   "name": "python",
   "nbconvert_exporter": "python",
   "pygments_lexer": "ipython3",
   "version": "3.9.2-final"
  },
  "orig_nbformat": 2,
  "kernelspec": {
   "name": "python3",
   "display_name": "Python 3.9.2 64-bit",
   "metadata": {
    "interpreter": {
     "hash": "ac59ebe37160ed0dfa835113d9b8498d9f09ceb179beaac4002f036b9467c963"
    }
   }
  }
 },
 "nbformat": 4,
 "nbformat_minor": 2,
 "cells": [
  {
   "source": [
    "## AI Meme Generator\n",
    "1) Parse Label for dataset COMPLETE  \n",
    "2) Analyze sentiment of sentences?  Sarcasm for Willy Wonka meme, is there a way to automate this? currently text classification seems to be just +-~   \n",
    "3) Find common theme for meme  \n",
    "4) Find a way to predict next word/next sentence based on prompted word  "
   ],
   "cell_type": "markdown",
   "metadata": {}
  },
  {
   "cell_type": "code",
   "execution_count": 8,
   "metadata": {},
   "outputs": [
    {
     "output_type": "stream",
     "name": "stdout",
     "text": [
      "[nltk_data] Downloading package wordnet to\n[nltk_data]     C:\\Users\\12369\\AppData\\Roaming\\nltk_data...\n[nltk_data]   Package wordnet is already up-to-date!\n[nltk_data] Downloading package averaged_perceptron_tagger to\n[nltk_data]     C:\\Users\\12369\\AppData\\Roaming\\nltk_data...\n[nltk_data]   Package averaged_perceptron_tagger is already up-to-\n[nltk_data]       date!\n[nltk_data] Downloading package punkt to\n[nltk_data]     C:\\Users\\12369\\AppData\\Roaming\\nltk_data...\n[nltk_data]   Package punkt is already up-to-date!\n"
     ]
    },
    {
     "output_type": "execute_result",
     "data": {
      "text/plain": [
       "True"
      ]
     },
     "metadata": {},
     "execution_count": 8
    }
   ],
   "source": [
    "import csv\n",
    "import os\n",
    "import nltk\n",
    "from nltk.tag import pos_tag, pos_tag_sents\n",
    "nltk.download('wordnet')\n",
    "nltk.download('averaged_perceptron_tagger')\n",
    "nltk.download('punkt')"
   ]
  },
  {
   "cell_type": "code",
   "execution_count": 14,
   "metadata": {
    "tags": []
   },
   "outputs": [],
   "source": [
    "fname = \"Willy-Wonka\"\n",
    "csvfile = open(fname+'.csv', newline ='')\n",
    "spamreader = csv.reader(csvfile)\n",
    "tokenizedsentences = []\n",
    "postags = []\n",
    "for row in spamreader:\n",
    "    parsedrow = []\n",
    "    tags = []\n",
    "    for sentence in row:\n",
    "        tokens = nltk.word_tokenize(sentence)\n",
    "        tags.append(pos_tag(tokens))\n",
    "        parsedrow.append(tokens)\n",
    "    tokenizedsentences.append(parsedrow)\n",
    "    postags.append(tags)\n",
    "\n",
    "# print(postags)\n"
   ]
  },
  {
   "cell_type": "code",
   "execution_count": 16,
   "metadata": {},
   "outputs": [
    {
     "output_type": "stream",
     "name": "stdout",
     "text": [
      "[[('you', 'PRP'), ('responded', 'VBD'), ('with', 'IN'), ('your', 'PRP$'), ('mom', 'NN')], [('you', 'PRP'), ('must', 'MD'), ('win', 'VB'), ('arguements', 'NNS'), ('all', 'PDT'), ('the', 'DT'), ('time', 'NN')]]\n"
     ]
    }
   ],
   "source": [
    "print(postags[2])"
   ]
  },
  {
   "cell_type": "code",
   "execution_count": null,
   "metadata": {},
   "outputs": [],
   "source": []
  }
 ]
}